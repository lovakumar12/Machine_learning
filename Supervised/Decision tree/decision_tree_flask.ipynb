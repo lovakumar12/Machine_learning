{
 "cells": [
  {
   "cell_type": "code",
   "execution_count": 1,
   "metadata": {},
   "outputs": [
    {
     "name": "stdout",
     "output_type": "stream",
     "text": [
      "Collecting flask\n",
      "  Using cached flask-3.1.0-py3-none-any.whl.metadata (2.7 kB)\n",
      "Requirement already satisfied: Werkzeug>=3.1 in c:\\users\\kumar\\anaconda3\\envs\\cardeo\\lib\\site-packages (from flask) (3.1.3)\n",
      "Requirement already satisfied: Jinja2>=3.1.2 in c:\\users\\kumar\\anaconda3\\envs\\cardeo\\lib\\site-packages (from flask) (3.1.5)\n",
      "Collecting itsdangerous>=2.2 (from flask)\n",
      "  Using cached itsdangerous-2.2.0-py3-none-any.whl.metadata (1.9 kB)\n",
      "Requirement already satisfied: click>=8.1.3 in c:\\users\\kumar\\anaconda3\\envs\\cardeo\\lib\\site-packages (from flask) (8.1.8)\n",
      "Requirement already satisfied: blinker>=1.9 in c:\\users\\kumar\\anaconda3\\envs\\cardeo\\lib\\site-packages (from flask) (1.9.0)\n",
      "Requirement already satisfied: importlib-metadata>=3.6 in c:\\users\\kumar\\anaconda3\\envs\\cardeo\\lib\\site-packages (from flask) (8.5.0)\n",
      "Requirement already satisfied: colorama in c:\\users\\kumar\\anaconda3\\envs\\cardeo\\lib\\site-packages (from click>=8.1.3->flask) (0.4.6)\n",
      "Requirement already satisfied: zipp>=3.20 in c:\\users\\kumar\\anaconda3\\envs\\cardeo\\lib\\site-packages (from importlib-metadata>=3.6->flask) (3.21.0)\n",
      "Requirement already satisfied: MarkupSafe>=2.0 in c:\\users\\kumar\\anaconda3\\envs\\cardeo\\lib\\site-packages (from Jinja2>=3.1.2->flask) (3.0.2)\n",
      "Using cached flask-3.1.0-py3-none-any.whl (102 kB)\n",
      "Using cached itsdangerous-2.2.0-py3-none-any.whl (16 kB)\n",
      "Installing collected packages: itsdangerous, flask\n",
      "Successfully installed flask-3.1.0 itsdangerous-2.2.0\n"
     ]
    }
   ],
   "source": [
    "!pip install flask"
   ]
  },
  {
   "cell_type": "code",
   "execution_count": 2,
   "metadata": {},
   "outputs": [
    {
     "name": "stdout",
     "output_type": "stream",
     "text": [
      "Writing flsk.py\n"
     ]
    }
   ],
   "source": [
    "%%writefile flsk.py\n",
    "from flask import Flask, request, jsonify, render_template\n",
    "import pandas as pd\n",
    "import numpy as np\n",
    "from sklearn.tree import DecisionTreeClassifier\n",
    "from sklearn.model_selection import train_test_split\n",
    "from imblearn.over_sampling import SMOTE\n",
    "\n",
    "app = Flask(__name__)\n",
    "\n",
    "# Load and preprocess the dataset\n",
    "data = pd.read_csv('Heart_Disease_Dataset.csv')  # Replace with your actual dataset path\n",
    "\n",
    "# Preprocessing steps\n",
    "binary_columns = ['Smoking', 'AlcoholDrinking', 'Stroke', 'DiffWalking', 'PhysicalActivity', 'Asthma', 'KidneyDisease', 'SkinCancer']\n",
    "for col in binary_columns:\n",
    "    data[col] = data[col].map({'Yes': 1, 'No': 0})\n",
    "\n",
    "# One-hot encode categorical columns\n",
    "data = pd.get_dummies(data, columns=['Sex', 'AgeCategory', 'Race', 'GenHealth', 'Diabetic'], drop_first=True)\n",
    "\n",
    "# Define features and target\n",
    "X = data.drop(columns=['HeartDisease'])\n",
    "y = data['HeartDisease'].map({'Yes': 1, 'No': 0})\n",
    "\n",
    "# Balance the dataset using SMOTE\n",
    "smote = SMOTE(random_state=42)\n",
    "X_resampled, y_resampled = smote.fit_resample(X, y)\n",
    "\n",
    "# Split into train and test sets\n",
    "X_train, X_test, y_train, y_test = train_test_split(X_resampled, y_resampled, test_size=0.2, random_state=42)\n",
    "\n",
    "# Train the Decision Tree Classifier\n",
    "clf = DecisionTreeClassifier(random_state=42)\n",
    "clf.fit(X_train, y_train)\n",
    "\n",
    "@app.route('/')\n",
    "def home():\n",
    "    return render_template('index.html')\n",
    "\n",
    "@app.route('/predict', methods=['POST'])\n",
    "def predict():\n",
    "    data = request.form.to_dict()\n",
    "    input_data = {key: float(value) for key, value in data.items()}\n",
    "    input_df = pd.DataFrame([input_data], columns=X.columns)\n",
    "    \n",
    "    # Ensure all columns are present (fill missing columns with 0)\n",
    "    for col in X.columns:\n",
    "        if col not in input_df.columns:\n",
    "            input_df[col] = 0\n",
    "    \n",
    "    # Reorder columns to match the model's expectations\n",
    "    input_df = input_df[X.columns]\n",
    "    \n",
    "    prediction = clf.predict(input_df)\n",
    "    result = \"Yes\" if prediction[0] == 1 else \"No\"\n",
    "    \n",
    "    return jsonify({'Heart Disease Prediction': result})\n",
    "\n",
    "if __name__ == '__main__':\n",
    "    app.run(host='0.0.0.0', port=8501, debug=True)\n",
    "\n"
   ]
  },
  {
   "cell_type": "code",
   "execution_count": 3,
   "metadata": {},
   "outputs": [
    {
     "name": "stdout",
     "output_type": "stream",
     "text": [
      "^C\n"
     ]
    }
   ],
   "source": [
    "!python flsk.py"
   ]
  },
  {
   "cell_type": "code",
   "execution_count": 5,
   "metadata": {},
   "outputs": [
    {
     "name": "stdout",
     "output_type": "stream",
     "text": [
      "Requirement already satisfied: flask in c:\\users\\kumar\\anaconda3\\envs\\cardeo\\lib\\site-packages (3.1.0)\n",
      "Requirement already satisfied: Werkzeug>=3.1 in c:\\users\\kumar\\anaconda3\\envs\\cardeo\\lib\\site-packages (from flask) (3.1.3)\n",
      "Requirement already satisfied: Jinja2>=3.1.2 in c:\\users\\kumar\\anaconda3\\envs\\cardeo\\lib\\site-packages (from flask) (3.1.5)\n",
      "Requirement already satisfied: itsdangerous>=2.2 in c:\\users\\kumar\\anaconda3\\envs\\cardeo\\lib\\site-packages (from flask) (2.2.0)\n",
      "Requirement already satisfied: click>=8.1.3 in c:\\users\\kumar\\anaconda3\\envs\\cardeo\\lib\\site-packages (from flask) (8.1.8)\n",
      "Requirement already satisfied: blinker>=1.9 in c:\\users\\kumar\\anaconda3\\envs\\cardeo\\lib\\site-packages (from flask) (1.9.0)\n",
      "Requirement already satisfied: importlib-metadata>=3.6 in c:\\users\\kumar\\anaconda3\\envs\\cardeo\\lib\\site-packages (from flask) (8.5.0)\n",
      "Requirement already satisfied: colorama in c:\\users\\kumar\\anaconda3\\envs\\cardeo\\lib\\site-packages (from click>=8.1.3->flask) (0.4.6)\n",
      "Requirement already satisfied: zipp>=3.20 in c:\\users\\kumar\\anaconda3\\envs\\cardeo\\lib\\site-packages (from importlib-metadata>=3.6->flask) (3.21.0)\n",
      "Requirement already satisfied: MarkupSafe>=2.0 in c:\\users\\kumar\\anaconda3\\envs\\cardeo\\lib\\site-packages (from Jinja2>=3.1.2->flask) (3.0.2)\n"
     ]
    }
   ],
   "source": [
    "!pip install flask"
   ]
  },
  {
   "cell_type": "code",
   "execution_count": 7,
   "metadata": {},
   "outputs": [
    {
     "name": "stderr",
     "output_type": "stream",
     "text": [
      "c:\\Users\\kumar\\anaconda3\\envs\\cardeo\\lib\\site-packages\\sklearn\\base.py:474: FutureWarning: `BaseEstimator._validate_data` is deprecated in 1.6 and will be removed in 1.7. Use `sklearn.utils.validation.validate_data` instead. This function becomes public and is part of the scikit-learn developer API.\n",
      "  warnings.warn(\n",
      "WARNING: This is a development server. Do not use it in a production deployment. Use a production WSGI server instead.\n",
      " * Running on all addresses (0.0.0.0)\n",
      " * Running on http://127.0.0.1:8501\n",
      " * Running on http://192.168.1.4:8501\n",
      "Press CTRL+C to quit\n"
     ]
    },
    {
     "data": {
      "text/plain": [
       "True"
      ]
     },
     "execution_count": 7,
     "metadata": {},
     "output_type": "execute_result"
    }
   ],
   "source": [
    "# Run this cell in Jupyter Notebook\n",
    "# pandas numpy scikit-learn imbalanced-learn\n",
    "\n",
    "import pandas as pd\n",
    "import numpy as np\n",
    "from flask import Flask, request, jsonify, render_template\n",
    "from sklearn.tree import DecisionTreeClassifier\n",
    "from sklearn.model_selection import train_test_split\n",
    "from imblearn.over_sampling import SMOTE\n",
    "import threading\n",
    "import webbrowser\n",
    "from werkzeug.serving import run_simple\n",
    "\n",
    "app = Flask(__name__)\n",
    "\n",
    "# Load and preprocess the dataset\n",
    "data = pd.read_csv('Heart_Disease_Dataset.csv')  # Ensure this file is in the correct path\n",
    "\n",
    "# Preprocessing steps\n",
    "binary_columns = ['Smoking', 'AlcoholDrinking', 'Stroke', 'DiffWalking', 'PhysicalActivity', 'Asthma', 'KidneyDisease', 'SkinCancer']\n",
    "for col in binary_columns:\n",
    "    data[col] = data[col].map({'Yes': 1, 'No': 0})\n",
    "\n",
    "# One-hot encode categorical columns\n",
    "data = pd.get_dummies(data, columns=['Sex', 'AgeCategory', 'Race', 'GenHealth', 'Diabetic'], drop_first=True)\n",
    "\n",
    "# Define features and target\n",
    "X = data.drop(columns=['HeartDisease'])\n",
    "y = data['HeartDisease'].map({'Yes': 1, 'No': 0})\n",
    "\n",
    "# Balance the dataset using SMOTE\n",
    "smote = SMOTE(random_state=42)\n",
    "X_resampled, y_resampled = smote.fit_resample(X, y)\n",
    "\n",
    "# Split into train and test sets\n",
    "X_train, X_test, y_train, y_test = train_test_split(X_resampled, y_resampled, test_size=0.2, random_state=42)\n",
    "\n",
    "# Train the Decision Tree Classifier\n",
    "clf = DecisionTreeClassifier(random_state=42)\n",
    "clf.fit(X_train, y_train)\n",
    "\n",
    "@app.route('/')\n",
    "def home():\n",
    "    return \"Flask Server Running!\"\n",
    "\n",
    "@app.route('/predict', methods=['POST'])\n",
    "def predict():\n",
    "    data = request.json  # Get JSON input\n",
    "    input_data = {key: float(value) for key, value in data.items()}\n",
    "    input_df = pd.DataFrame([input_data], columns=X.columns)\n",
    "    \n",
    "    # Ensure all columns are present (fill missing columns with 0)\n",
    "    for col in X.columns:\n",
    "        if col not in input_df.columns:\n",
    "            input_df[col] = 0\n",
    "    \n",
    "    # Reorder columns to match model expectations\n",
    "    input_df = input_df[X.columns]\n",
    "    \n",
    "    prediction = clf.predict(input_df)\n",
    "    result = \"Yes\" if prediction[0] == 1 else \"No\"\n",
    "    \n",
    "    return jsonify({'Heart Disease Prediction': result})\n",
    "\n",
    "# Function to run Flask in Jupyter Notebook\n",
    "def run_app():\n",
    "    run_simple(\"0.0.0.0\", 8501, app, use_reloader=False)\n",
    "\n",
    "# Start Flask server in a separate thread\n",
    "flask_thread = threading.Thread(target=run_app)\n",
    "flask_thread.start()\n",
    "\n",
    "# Open browser to Flask app\n",
    "webbrowser.open(\"http://127.0.0.1:8501/\")\n"
   ]
  },
  {
   "cell_type": "code",
   "execution_count": null,
   "metadata": {},
   "outputs": [],
   "source": []
  }
 ],
 "metadata": {
  "kernelspec": {
   "display_name": "cardeo",
   "language": "python",
   "name": "python3"
  },
  "language_info": {
   "codemirror_mode": {
    "name": "ipython",
    "version": 3
   },
   "file_extension": ".py",
   "mimetype": "text/x-python",
   "name": "python",
   "nbconvert_exporter": "python",
   "pygments_lexer": "ipython3",
   "version": "3.9.0"
  }
 },
 "nbformat": 4,
 "nbformat_minor": 2
}
